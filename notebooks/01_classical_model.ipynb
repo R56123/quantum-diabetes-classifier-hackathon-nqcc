{
 "cells": [
  {
   "cell_type": "code",
   "execution_count": null,
   "id": "10c0e626",
   "metadata": {},
   "outputs": [],
   "source": [
    "# 1. Import libraries\n",
    "\n",
    "import pandas as pd # Load and handle the data \n",
    "from sklearn.model_selection import train_test_split # Break data into training and testing sets\n",
    "from sklearn.linear_model import LogisticRegression # Create a logistic regression model\n",
    "from sklearn.metrics import accuracy_score # Measure the model's accuracy (How well it performed)\n"
   ]
  },
  {
   "cell_type": "code",
   "execution_count": null,
   "id": "3ad28f47",
   "metadata": {},
   "outputs": [],
   "source": [
    "# 2. Load the dataset \n",
    "url = \"https://raw.githubusercontent.com/jbrownlee/Datasets/master/pima-indians-diabetes.data.csv\" # Loaded a dataset from a URL where the last column is the target variable (Outcome).\n",
    "columns = ['Pregnancies', 'Glucose', 'BloodPressure', 'SkinThickness',\n",
    "              'Insulin', 'BMI', 'DiabetesPedigreeFunction', 'Age', 'Outcome'] # The dataset contains various health measurements and whether the person has diabetes (1) or not (0).\n",
    "\n",
    "data = pd.read_csv(url, names=columns) # Read the dataset into a pandas DataFrame and assign column names.\n",
    "\n",
    "# Show the first few rows of the dataset\n",
    "data.head() # Display the first few rows of the dataset to understand its structure and contents.\n"
   ]
  },
  {
   "cell_type": "code",
   "execution_count": null,
   "id": "af081abd",
   "metadata": {},
   "outputs": [],
   "source": [
    "#. 3 Split the dataset into features and target\n",
    "\n",
    "x = data.drop('Outcome', axis=1) # Features: All columns except 'Outcome'\n",
    "y = data['Outcome'] # Target: The 'Outcome' column which indicates if the person has diabetes (1) or not (0)\n",
    "\n",
    "# Split into 80% training and 20% testing\n",
    "x_train, x_test, y_train, y_test = train_test_split(x, y, test_size=0.2, random_state=42) \n",
    "\n",
    "print(f\"Training set size: {len(x_train)}\") # Show the size of the training set\n",
    "print(f\"Testing set size: {len(x_test)}\") # Show the size of the testing set"
   ]
  },
  {
   "cell_type": "code",
   "execution_count": null,
   "id": "3d5827fb",
   "metadata": {},
   "outputs": [],
   "source": [
    "#. 4 Train the model \n",
    "\n",
    "# Create the model\n",
    "model = LogisticRegression(max_iter=1000)\n",
    "\n",
    "# Train (fit) the model on the training data\n",
    "# The model learns the relationship between the features (x) and the target variable ((y) diabetes outcome).\n",
    "model.fit(x_train, y_train)\n"
   ]
  },
  {
   "cell_type": "code",
   "execution_count": 6,
   "id": "98282d17",
   "metadata": {},
   "outputs": [
    {
     "name": "stdout",
     "output_type": "stream",
     "text": [
      "Model Accuracy: 74.68%\n"
     ]
    }
   ],
   "source": [
    "#. 5 Evaluate the model\n",
    "\n",
    "# Predict on the test data \n",
    "y_pred = model.predict(x_test)\n",
    "\n",
    "# Measure accuracy\n",
    "accuracy = accuracy_score(y_test, y_pred)\n",
    "\n",
    "# Show the results\n",
    "print(f\"Model Accuracy: {accuracy * 100:.2f}%\")"
   ]
  }
 ],
 "metadata": {
  "kernelspec": {
   "display_name": ".venv",
   "language": "python",
   "name": "python3"
  },
  "language_info": {
   "codemirror_mode": {
    "name": "ipython",
    "version": 3
   },
   "file_extension": ".py",
   "mimetype": "text/x-python",
   "name": "python",
   "nbconvert_exporter": "python",
   "pygments_lexer": "ipython3",
   "version": "3.12.3"
  }
 },
 "nbformat": 4,
 "nbformat_minor": 5
}
