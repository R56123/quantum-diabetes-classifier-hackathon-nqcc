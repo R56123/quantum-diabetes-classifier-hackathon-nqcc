{
 "cells": [
  {
   "cell_type": "code",
   "execution_count": null,
   "id": "c495c96e",
   "metadata": {},
   "outputs": [],
   "source": [
    "#. 1 Import necessary libraries\n",
    "import pennylane as qml \n",
    "from pennylane import numpy as np\n",
    "from sklearn.model_selection import train_test_split\n",
    "from sklearn.preprocessing import MinMaxScaler\n",
    "from sklearn.metrics import accuracy_score\n",
    "\n",
    "import pandas as pd\n"
   ]
  },
  {
   "cell_type": "code",
   "execution_count": null,
   "id": "6c97c598",
   "metadata": {},
   "outputs": [],
   "source": [
    "#. 2 Set up a Quantum device and define a Quantum Node\n",
    "\n",
    "# Set up a quantum device with 4 wires (qubits)\n",
    "dev = qml.device(\"default.qubit\", wires=4) # This sets up a simulated quantum computer (called a device) with 4 qubits. This is where we run our quantum circuits.\n",
    "\n",
    "# Define a simple quantum circuit (Quantum Node)\n",
    "\n",
    "@qml.qnode(dev) # This decorator tells PennyLane that this function is a quantum circuit that can be executed on the quantum device.\n",
    "\n",
    "def circuit(inputs, weights): # This function defines the quantum circuit. It takes inputs (the data) and weights (values we train) to produce an output.\n",
    "\n",
    "    # Encode classical input into quantum state \n",
    "    for i in range(4):\n",
    "        qml.RX(inputs[i], wires=i) # Each input value is turned into a rotation on a qubit. This encodes the classical data into quantum states.\n",
    "\n",
    "    # Add entanglement and trainable parameters\n",
    "    for i in range(4):\n",
    "        qml.RY(weights[i], wires=i) # These are the \"learnable\" parts. We train the circuit by adjusting these rotation angles.\n",
    "\n",
    "        return [qml.expval(qml.PauliZ(i)) for i in range(4)] # I measure each qubit and return values that tell us the final state of the quantum system. These values are used to make predictions.\n"
   ]
  },
  {
   "cell_type": "code",
   "execution_count": null,
   "id": "14af0597",
   "metadata": {},
   "outputs": [],
   "source": [
    "#. 3 Select 4 Features from the dataset and scale them for Quantum input.\n",
    "\n",
    "# Load the dataset\n",
    "url = \"https://raw.githubusercontent.com/jbrownlee/Datasets/master/pima-indians-diabetes.data.csv\" # Loaded a dataset from a URL where the last column is the target variable (Outcome).\n",
    "columns = ['Pregnancies', 'Glucose', 'BloodPressure', 'SkinThickness',\n",
    "              'Insulin', 'BMI', 'DiabetesPedigreeFunction', 'Age', 'Outcome'] # The dataset contains various health measurements and whether the person has diabetes (1) or not (0).\n",
    "data = pd.read_csv(url, names=columns) # Read the dataset into a pandas DataFrame and assign column names.\n",
    "\n",
    "# Select features and target variable\n",
    "selected_features = ['Glucose', 'BMI', 'Age', 'Insulin'] # These are the features we will use for our quantum model. They are selected based on their relevance to diabetes prediction.\n",
    "x = data[selected_features] # This extracts the selected features from the dataset.\n",
    "y = data['Outcome'] # This is the target variable we want to predict (whether a person has diabetes or not).\n",
    "\n",
    "# Scale the selected features between 0 and π (for use in quantum gates)\n",
    "scaler = MinMaxScaler(feature_range=(0, np.pi)) # This scaler will adjust the feature values to fit within the range suitable for quantum gates.\n",
    "x_scaled = scaler.fit_transform(x) # This applies the scaling to the selected features.\n",
    "\n"
   ]
  },
  {
   "cell_type": "code",
   "execution_count": null,
   "id": "4e054da6",
   "metadata": {},
   "outputs": [],
   "source": [
    "#. 4 Split the dataset into training and testing sets\n",
    "\n",
    "# This splits the scaled data into training and testing sets. 80% of the data is used for training and 20% for testing.\n",
    "x_train, x_test, y_train, y_test = train_test_split(x_scaled, y, test_size=0.2, random_state=42) \n",
    "\n",
    "# Print the sizes for verification\n",
    "print(f\"Training set size: {len(x_train)}\") # This prints the number of samples in the training set.\n",
    "print(f\"Testing set size: {len(x_test)}\") # This prints the number of samples in the testing set."
   ]
  }
 ],
 "metadata": {
  "kernelspec": {
   "display_name": ".venv",
   "language": "python",
   "name": "python3"
  },
  "language_info": {
   "codemirror_mode": {
    "name": "ipython",
    "version": 3
   },
   "file_extension": ".py",
   "mimetype": "text/x-python",
   "name": "python",
   "nbconvert_exporter": "python",
   "pygments_lexer": "ipython3",
   "version": "3.12.3"
  }
 },
 "nbformat": 4,
 "nbformat_minor": 5
}
