{
 "cells": [
  {
   "cell_type": "code",
   "execution_count": 2,
   "id": "c495c96e",
   "metadata": {},
   "outputs": [],
   "source": [
    "#. 1 Import necessary libraries\n",
    "import pennylane as qml \n",
    "from pennylane import numpy as np\n",
    "from sklearn.model_selection import train_test_split\n",
    "from sklearn.preprocessing import MinMaxScaler\n",
    "from sklearn.metrics import accuracy_score\n",
    "\n",
    "import pandas as pd\n"
   ]
  },
  {
   "cell_type": "code",
   "execution_count": 1,
   "id": "6c97c598",
   "metadata": {},
   "outputs": [],
   "source": [
    "#. 2 Set up a Quantum device and define a Quantum Node\n",
    "import pennylane as qml\n",
    "from pennylane import numpy as np\n",
    "\n",
    "# Set up a quantum device with 4 wires (qubits)\n",
    "dev = qml.device(\"default.qubit\", wires=4) # This sets up a simulated quantum computer (called a device) with 4 qubits. This is where we run our quantum circuits.\n",
    "\n",
    "# Define a simple quantum circuit (Quantum Node)\n",
    "\n",
    "@qml.qnode(dev) # This decorator tells PennyLane that this function is a quantum circuit that can be executed on the quantum device.\n",
    "\n",
    "def circuit(inputs, weights): # This function defines the quantum circuit. It takes inputs (the data) and weights (values we train) to produce an output.\n",
    "\n",
    "    # Encode classical input into quantum state \n",
    "    for i in range(4):\n",
    "        qml.RX(inputs[i], wires=i) # Each input value is turned into a rotation on a qubit. This encodes the classical data into quantum states.\n",
    "\n",
    "    # Add entanglement and trainable parameters\n",
    "    for i in range(4):\n",
    "        qml.RY(weights[i], wires=i) # These are the \"learnable\" parts. We train the circuit by adjusting these rotation angles.\n",
    "\n",
    "        return [qml.expval(qml.PauliZ(i)) for i in range(4)] # I measure each qubit and return values that tell us the final state of the quantum system. These values are used to make predictions.\n"
   ]
  }
 ],
 "metadata": {
  "kernelspec": {
   "display_name": ".venv",
   "language": "python",
   "name": "python3"
  },
  "language_info": {
   "codemirror_mode": {
    "name": "ipython",
    "version": 3
   },
   "file_extension": ".py",
   "mimetype": "text/x-python",
   "name": "python",
   "nbconvert_exporter": "python",
   "pygments_lexer": "ipython3",
   "version": "3.12.3"
  }
 },
 "nbformat": 4,
 "nbformat_minor": 5
}
