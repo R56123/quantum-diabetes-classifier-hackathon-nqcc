{
 "cells": [
  {
   "cell_type": "code",
   "execution_count": null,
   "id": "c495c96e",
   "metadata": {},
   "outputs": [],
   "source": [
    "#. 1 Import necessary libraries\n",
    "import pennylane as qml \n",
    "from pennylane import numpy as np\n",
    "from sklearn.model_selection import train_test_split\n",
    "from sklearn.preprocessing import MinMaxScaler\n",
    "from sklearn.metrics import accuracy_score\n",
    "\n",
    "import pandas as pd\n"
   ]
  }
 ],
 "metadata": {
  "kernelspec": {
   "display_name": ".venv",
   "language": "python",
   "name": "python3"
  },
  "language_info": {
   "name": "python",
   "version": "3.12.3"
  }
 },
 "nbformat": 4,
 "nbformat_minor": 5
}
